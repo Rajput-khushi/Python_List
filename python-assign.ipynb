{
 "cells": [
  {
   "cell_type": "code",
   "execution_count": 1,
   "id": "e950dcba",
   "metadata": {},
   "outputs": [
    {
     "name": "stdout",
     "output_type": "stream",
     "text": [
      "list after interchanging: [7, 2, 3, 4, 5, 6, 1]\n"
     ]
    }
   ],
   "source": [
    "# 1. puthon program to interchange 1st and last element in a list?\n",
    "\n",
    "L1=[1,2,3,4,5,6,7]\n",
    "L1[0],L1[-1]=L1[-1],L1[0]\n",
    "print(\"list after interchanging:\",L1)"
   ]
  },
  {
   "cell_type": "code",
   "execution_count": 2,
   "id": "3a21d389",
   "metadata": {},
   "outputs": [
    {
     "name": "stdout",
     "output_type": "stream",
     "text": [
      "list after swaping: [1, 6, 4, 3, 7]\n"
     ]
    }
   ],
   "source": [
    "# 2. pyton program to swap to elements in a list?\n",
    "L=[1,4,6,3,7]\n",
    "L[1],L[2]=L[2],L[1]\n",
    "print(\"list after swaping:\",L)"
   ]
  },
  {
   "cell_type": "code",
   "execution_count": 3,
   "id": "de6edd23",
   "metadata": {},
   "outputs": [
    {
     "name": "stdout",
     "output_type": "stream",
     "text": [
      "string list after swaping: ['dog', 'cat', 'elephant', 'horse']\n"
     ]
    }
   ],
   "source": [
    "# 3. python program to swap elements in string list?\n",
    "str=[\"cat\",\"dog\",\"elephant\",\"horse\"]\n",
    "str[0],str[1]=str[1],str[0]\n",
    "print(\"string list after swaping:\",str)"
   ]
  },
  {
   "cell_type": "code",
   "execution_count": 4,
   "id": "0f2f96c5",
   "metadata": {},
   "outputs": [
    {
     "name": "stdout",
     "output_type": "stream",
     "text": [
      "8\n"
     ]
    }
   ],
   "source": [
    "# 4. way tto find length of list?\n",
    "l=[6,3,7,3,7,6,2,6]\n",
    "print(len(l))"
   ]
  },
  {
   "cell_type": "code",
   "execution_count": 5,
   "id": "f33a583d",
   "metadata": {},
   "outputs": [
    {
     "name": "stdout",
     "output_type": "stream",
     "text": [
      "a=5\n",
      "b=6\n",
      "B is maximum : 6\n"
     ]
    }
   ],
   "source": [
    "# 5. max of two numbers in  python?\n",
    "A=input(\"a=\")\n",
    "B=input(\"b=\")\n",
    "if A>B:\n",
    "    print(\"A is maximum : \",A)\n",
    "else:\n",
    "    print(\"B is maximum :\",B)"
   ]
  },
  {
   "cell_type": "code",
   "execution_count": 6,
   "id": "51188805",
   "metadata": {},
   "outputs": [
    {
     "name": "stdout",
     "output_type": "stream",
     "text": [
      "a=8\n",
      "b=5\n",
      "B is minimum : 5\n"
     ]
    }
   ],
   "source": [
    "# 6. min of two numbers in  python?\n",
    "A=input(\"a=\")\n",
    "B=input(\"b=\")\n",
    "if A<B:\n",
    "    print(\"A is minimum : \",A)\n",
    "else:\n",
    "    print(\"B is minimum :\",B)"
   ]
  },
  {
   "cell_type": "code",
   "execution_count": 7,
   "id": "ccc3cc56",
   "metadata": {},
   "outputs": [
    {
     "name": "stdout",
     "output_type": "stream",
     "text": [
      "enter number : 6\n",
      "exsists\n"
     ]
    }
   ],
   "source": [
    "# 7. way to check if element exists in list?\n",
    "L2=[3,6,2,7,4,9]\n",
    "a=int(input(\"enter number : \"))\n",
    "if a in L2:\n",
    "    print(\"exsists\")\n",
    "else:\n",
    "    print(\"does not exsists\")"
   ]
  },
  {
   "cell_type": "code",
   "execution_count": 8,
   "id": "248c791b",
   "metadata": {},
   "outputs": [
    {
     "name": "stdout",
     "output_type": "stream",
     "text": [
      "[46, 33, 68, 22, 96]\n",
      "[46, 33, 68, 22, 21]\n",
      "[46, 33, 68, 22, 21]\n",
      "[]\n"
     ]
    }
   ],
   "source": [
    "# 8. \n",
    "# POP METHOD 1\n",
    "l=[46,33,68,22,96,21]\n",
    "l.pop()\n",
    "print(l)\n",
    "# POP METHOD 2\n",
    "l=[46,33,68,22,96,21]\n",
    "l.pop(4)\n",
    "print(l)\n",
    "\n",
    "#DELETE METHOD \n",
    "l=[46,33,68,22,96,21]\n",
    "del l[4]\n",
    "print(l)\n",
    "l=[46,33,68,22,96,21]\n",
    "del l[:]\n",
    "print(l)\n",
    "\n",
    "#CLEAR METHOD\n",
    "l=[46,33,68,22,96,21]\n",
    "l.clear()"
   ]
  },
  {
   "cell_type": "code",
   "execution_count": 9,
   "id": "9d880236",
   "metadata": {},
   "outputs": [
    {
     "name": "stdout",
     "output_type": "stream",
     "text": [
      "['horse', 'elephant', 'dog', 'cat']\n"
     ]
    }
   ],
   "source": [
    "# 9. revering a list?\n",
    "animals=[\"cat\",\"dog\",\"elephant\",\"horse\"]\n",
    "animals.reverse()\n",
    "print(animals)"
   ]
  },
  {
   "cell_type": "code",
   "execution_count": 10,
   "id": "928b2774",
   "metadata": {},
   "outputs": [],
   "source": [
    "# 10. cloning or copying a list?\n",
    "list=[13,54,76,65,23,68,22]"
   ]
  },
  {
   "cell_type": "code",
   "execution_count": 11,
   "id": "446dc4ec",
   "metadata": {},
   "outputs": [
    {
     "name": "stdout",
     "output_type": "stream",
     "text": [
      "1\n"
     ]
    }
   ],
   "source": [
    "# 11. count ocurrences of an element in list\n",
    "animals=[\"cat\",\"dog\",\"elephant\",\"horse\"]\n",
    "print(animals.count(\"dog\"))"
   ]
  },
  {
   "cell_type": "code",
   "execution_count": 12,
   "id": "c641e480",
   "metadata": {},
   "outputs": [
    {
     "name": "stdout",
     "output_type": "stream",
     "text": [
      "28\n",
      "4.0\n"
     ]
    }
   ],
   "source": [
    "# 12. to find sum and avg of list?\n",
    "l=[1,2,3,4,5,6,7]\n",
    "print(sum(l))\n",
    "print(sum(l)/len(l))"
   ]
  },
  {
   "cell_type": "code",
   "execution_count": 13,
   "id": "1f537a12",
   "metadata": {},
   "outputs": [
    {
     "name": "stdout",
     "output_type": "stream",
     "text": [
      "277\n"
     ]
    }
   ],
   "source": [
    "# 13. sum of digit in list\n",
    "L=[2,54,65,22,56,78]\n",
    "print(sum(L))\n"
   ]
  },
  {
   "cell_type": "code",
   "execution_count": 14,
   "id": "3cd5ae10",
   "metadata": {},
   "outputs": [
    {
     "name": "stdout",
     "output_type": "stream",
     "text": [
      "120\n"
     ]
    }
   ],
   "source": [
    "# 14. multiply numbers in list?\n",
    "import math\n",
    "L=[1,2,3,4,5]\n",
    "multi=math.prod(L)\n",
    "print(multi)"
   ]
  },
  {
   "cell_type": "code",
   "execution_count": 15,
   "id": "71791ec0",
   "metadata": {},
   "outputs": [
    {
     "name": "stdout",
     "output_type": "stream",
     "text": [
      "2\n"
     ]
    }
   ],
   "source": [
    "# 15. min value in list?\n",
    "L=[2,6,7,4,8]\n",
    "print(min(L))"
   ]
  },
  {
   "cell_type": "code",
   "execution_count": 16,
   "id": "6a162eb7",
   "metadata": {},
   "outputs": [
    {
     "name": "stdout",
     "output_type": "stream",
     "text": [
      "8\n"
     ]
    }
   ],
   "source": [
    "# 16. max in list?\n",
    "L=[1,7,8,5,4]\n",
    "print(max(L))"
   ]
  },
  {
   "cell_type": "code",
   "execution_count": 17,
   "id": "33b9230d",
   "metadata": {},
   "outputs": [
    {
     "name": "stdout",
     "output_type": "stream",
     "text": [
      "[12, 23, 44, 64, 87]\n",
      "sec largest num :  64\n"
     ]
    }
   ],
   "source": [
    "# 17. find sec largest value?\n",
    "L=[23,64,12,87,44]\n",
    "L.sort()\n",
    "print(L)\n",
    "s=L[-2]\n",
    "print(\"sec largest num : \",s)"
   ]
  },
  {
   "cell_type": "code",
   "execution_count": 18,
   "id": "abd9df83",
   "metadata": {},
   "outputs": [
    {
     "name": "stdout",
     "output_type": "stream",
     "text": [
      "enter number :45\n",
      "its an odd number!!\n"
     ]
    }
   ],
   "source": [
    "# 18. check even num?\n",
    "A=int(input(\"enter number :\"))\n",
    "if A%2==0:\n",
    "    print(\"its an even number !!\")\n",
    "else:\n",
    "    print(\"its an odd number!!\")"
   ]
  },
  {
   "cell_type": "code",
   "execution_count": 19,
   "id": "c05d386d",
   "metadata": {},
   "outputs": [
    {
     "name": "stdout",
     "output_type": "stream",
     "text": [
      "enter number :55\n",
      "its an odd number !!\n"
     ]
    }
   ],
   "source": [
    "# 19. check odd num?\n",
    "A=int(input(\"enter number :\"))\n",
    "if A%2!=0:\n",
    "    print(\"its an odd number !!\")\n",
    "else:\n",
    "    print(\"its an even number!!\")"
   ]
  },
  {
   "cell_type": "code",
   "execution_count": 20,
   "id": "4fee6684",
   "metadata": {},
   "outputs": [
    {
     "name": "stdout",
     "output_type": "stream",
     "text": [
      "enter number till end :24\n",
      "2\n",
      "4\n",
      "6\n",
      "8\n",
      "10\n",
      "12\n",
      "14\n",
      "16\n",
      "18\n",
      "20\n",
      "22\n",
      "24\n"
     ]
    }
   ],
   "source": [
    "#20. print even num in range?\n",
    "A=int(input(\"enter number till end :\"))\n",
    "i=2\n",
    "for i in range(2,A+1,2):\n",
    "    print(i)"
   ]
  },
  {
   "cell_type": "code",
   "execution_count": 21,
   "id": "18b26b62",
   "metadata": {},
   "outputs": [
    {
     "name": "stdout",
     "output_type": "stream",
     "text": [
      "enter number till end : 23\n",
      "1\n",
      "3\n",
      "5\n",
      "7\n",
      "9\n",
      "11\n",
      "13\n",
      "15\n",
      "17\n",
      "19\n",
      "21\n"
     ]
    }
   ],
   "source": [
    "# 21.  print odd num in range?\n",
    "A=int(input(\"enter number till end : \"))\n",
    "i=1\n",
    "for i in range(1,A,2):\n",
    "    print(i)"
   ]
  },
  {
   "cell_type": "code",
   "execution_count": 22,
   "id": "8d0d7b20",
   "metadata": {},
   "outputs": [
    {
     "name": "stdout",
     "output_type": "stream",
     "text": [
      "even number in the list: 13\n",
      "odd number in the list: 3\n"
     ]
    }
   ],
   "source": [
    "# 22. count add and even num in list?\n",
    "L=[13,45,76,34,12,31]\n",
    "a,b=0,0\n",
    "for i in L:\n",
    "    if i%2==0:\n",
    "        a=i+1\n",
    "    else:\n",
    "        b=b+1\n",
    "print(\"even number in the list:\",a)\n",
    "print(\"odd number in the list:\",b)"
   ]
  },
  {
   "cell_type": "code",
   "execution_count": 23,
   "id": "c69b07fe",
   "metadata": {},
   "outputs": [
    {
     "name": "stdout",
     "output_type": "stream",
     "text": [
      "1\n",
      "7\n",
      "6\n",
      "3\n"
     ]
    }
   ],
   "source": [
    "# 23. print positive num in list?\n",
    "L=[1,7,6,-4,3,-9]\n",
    "def pos_num():\n",
    "    for p in L:\n",
    "        if p>0:\n",
    "            print(p)\n",
    "pos_num()"
   ]
  },
  {
   "cell_type": "code",
   "execution_count": 24,
   "id": "64df23d8",
   "metadata": {},
   "outputs": [
    {
     "name": "stdout",
     "output_type": "stream",
     "text": [
      "-4\n",
      "-9\n"
     ]
    }
   ],
   "source": [
    "# 24. print negative num in list?\n",
    "L=[1,7,6,-4,3,-9]\n",
    "def neg_num():\n",
    "    for N in L:\n",
    "        if N<0:\n",
    "            print(N)\n",
    "neg_num()"
   ]
  },
  {
   "cell_type": "code",
   "execution_count": 25,
   "id": "77cac599",
   "metadata": {},
   "outputs": [
    {
     "name": "stdout",
     "output_type": "stream",
     "text": [
      "enter a num :11\n",
      "0\n",
      "2\n",
      "4\n",
      "6\n",
      "8\n",
      "10\n"
     ]
    }
   ],
   "source": [
    "# 25. print positive num in range?\n",
    "a=int(input(\"enter a num :\"))\n",
    "def pos_num():\n",
    "    for L in range (0,a+1,2):\n",
    "        print(L)\n",
    "pos_num()"
   ]
  },
  {
   "cell_type": "code",
   "execution_count": 26,
   "id": "da88e357",
   "metadata": {},
   "outputs": [
    {
     "name": "stdout",
     "output_type": "stream",
     "text": [
      "enter a num :23\n",
      "0\n",
      "1\n",
      "2\n",
      "3\n",
      "4\n",
      "5\n",
      "6\n",
      "7\n",
      "8\n",
      "9\n",
      "10\n",
      "11\n",
      "12\n",
      "13\n",
      "14\n",
      "15\n",
      "16\n",
      "17\n",
      "18\n",
      "19\n",
      "20\n",
      "21\n",
      "22\n",
      "23\n"
     ]
    }
   ],
   "source": [
    "# 26. print negative num in range?\n",
    "a=int(input(\"enter a num :\"))\n",
    "def neg_num():\n",
    "    for L in range (0,a+1,1):\n",
    "        print(L)\n",
    "neg_num()"
   ]
  },
  {
   "cell_type": "code",
   "execution_count": 27,
   "id": "ec2083c5",
   "metadata": {},
   "outputs": [
    {
     "name": "stdout",
     "output_type": "stream",
     "text": [
      "7\n",
      "0\n"
     ]
    }
   ],
   "source": [
    "# 27. count positive and negative num in list?\n",
    "L=[34,21,12,43,11,15,17]\n",
    "pos,neg=0,0\n",
    "for i in L:\n",
    "    if i>0:\n",
    "        pos=pos+1\n",
    "    else:\n",
    "        neg=neg+1\n",
    "print(pos)\n",
    "print(neg)"
   ]
  },
  {
   "cell_type": "code",
   "execution_count": 28,
   "id": "189b16af",
   "metadata": {},
   "outputs": [
    {
     "name": "stdout",
     "output_type": "stream",
     "text": [
      "[12, 32, 65, 65, 67]\n"
     ]
    }
   ],
   "source": [
    "# 28. remove multiple elements from a list?\n",
    "L=[12,32,65,21,43,76,65,67]\n",
    "del L[3:6]\n",
    "print(L)\n"
   ]
  },
  {
   "cell_type": "code",
   "execution_count": 1,
   "id": "3121187b",
   "metadata": {},
   "outputs": [
    {
     "ename": "IndentationError",
     "evalue": "expected an indented block after 'if' statement on line 5 (2472799841.py, line 6)",
     "output_type": "error",
     "traceback": [
      "\u001b[1;36m  Cell \u001b[1;32mIn[1], line 6\u001b[1;36m\u001b[0m\n\u001b[1;33m    L.append(tup)\u001b[0m\n\u001b[1;37m    ^\u001b[0m\n\u001b[1;31mIndentationError\u001b[0m\u001b[1;31m:\u001b[0m expected an indented block after 'if' statement on line 5\n"
     ]
    }
   ],
   "source": [
    "# 29. remove empty tuple from list?\n",
    "L=[(2,4),(6,5),(),(7,4),()]\n",
    "new_list=[]\n",
    "for tup in L:\n",
    "    if tup:\n",
    "    L.append(tup)\n",
    "print(L)"
   ]
  },
  {
   "cell_type": "code",
   "execution_count": null,
   "id": "8ddac8dd",
   "metadata": {},
   "outputs": [],
   "source": [
    "# 30. print duplicate in a list?\n",
    "L=[1,31,54,26,13,11,3,31,1,54,22,22]\n"
   ]
  }
 ],
 "metadata": {
  "kernelspec": {
   "display_name": "Python 3 (ipykernel)",
   "language": "python",
   "name": "python3"
  },
  "language_info": {
   "codemirror_mode": {
    "name": "ipython",
    "version": 3
   },
   "file_extension": ".py",
   "mimetype": "text/x-python",
   "name": "python",
   "nbconvert_exporter": "python",
   "pygments_lexer": "ipython3",
   "version": "3.11.5"
  }
 },
 "nbformat": 4,
 "nbformat_minor": 5
}
